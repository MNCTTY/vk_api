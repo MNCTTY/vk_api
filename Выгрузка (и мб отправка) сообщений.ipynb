{
 "cells": [
  {
   "cell_type": "code",
   "execution_count": 3,
   "metadata": {},
   "outputs": [],
   "source": [
    "import vk\n",
    "import re\n",
    "import time"
   ]
  },
  {
   "cell_type": "markdown",
   "metadata": {},
   "source": [
    "#### >> получаем токен"
   ]
  },
  {
   "cell_type": "raw",
   "metadata": {},
   "source": [
    "https://oauth.vk.com/authorize?client_id={ID приложения}&display=page&redirect_uri=https://oauth.vk.com/blank.html&scope=friends,photos ,audio,video,docs,notes,pages,status,wall,groups,messages,notifications,offline&response_type=token"
   ]
  },
  {
   "cell_type": "raw",
   "metadata": {},
   "source": [
    "https://oauth.vk.com/blank.html#access_token=PUT_ACCESS_TOKEN_HERE&expires_in=0&user_id=237089588"
   ]
  },
  {
   "cell_type": "code",
   "execution_count": 4,
   "metadata": {},
   "outputs": [],
   "source": [
    "session = vk.Session(access_token='PUT_ACCESS_TOKEN_HERE')\n",
    "vkapi = vk.API(session, v='5.2')"
   ]
  },
  {
   "cell_type": "markdown",
   "metadata": {},
   "source": [
    "#### Маленькие эксперименты"
   ]
  },
  {
   "cell_type": "code",
   "execution_count": null,
   "metadata": {},
   "outputs": [],
   "source": [
    "vkapi.getServerTime()"
   ]
  },
  {
   "cell_type": "code",
   "execution_count": 4,
   "metadata": {},
   "outputs": [],
   "source": [
    "profiles = vkapi.users.get(user_id=2)\n",
    "profiles.append(vkapi.users.get(user_id=1))"
   ]
  },
  {
   "cell_type": "code",
   "execution_count": 5,
   "metadata": {},
   "outputs": [
    {
     "name": "stdout",
     "output_type": "stream",
     "text": [
      "2\n"
     ]
    }
   ],
   "source": [
    "#print(profiles[0:1]['last_name'])\n",
    "print(len(profiles))"
   ]
  },
  {
   "cell_type": "code",
   "execution_count": 6,
   "metadata": {},
   "outputs": [
    {
     "data": {
      "text/plain": [
       "'Дуров'"
      ]
     },
     "execution_count": 6,
     "metadata": {},
     "output_type": "execute_result"
    }
   ],
   "source": [
    "profiles = vkapi('users.get', user_id=1)\n",
    "profiles[0]['last_name']"
   ]
  },
  {
   "cell_type": "code",
   "execution_count": 7,
   "metadata": {},
   "outputs": [
    {
     "data": {
      "text/plain": [
       "{'post_id': 656}"
      ]
     },
     "execution_count": 7,
     "metadata": {},
     "output_type": "execute_result"
    }
   ],
   "source": [
    "vkapi.wall.post(message=\"test post\")"
   ]
  },
  {
   "cell_type": "code",
   "execution_count": 8,
   "metadata": {},
   "outputs": [],
   "source": [
    "s=vkapi.wall.get(domain='reylos',count=2) #get posts from the community"
   ]
  },
  {
   "cell_type": "code",
   "execution_count": null,
   "metadata": {},
   "outputs": [],
   "source": [
    "print(s)"
   ]
  },
  {
   "cell_type": "raw",
   "metadata": {},
   "source": [
    "import vk\n",
    "\n",
    "vkapi = vk.API('my_app_id', 'user_login', 'user_password')\n",
    "vkapi.access_token=s\n",
    "vkapi.wall.post(message=\"Hello, world\")"
   ]
  },
  {
   "cell_type": "code",
   "execution_count": 10,
   "metadata": {},
   "outputs": [
    {
     "data": {
      "text/plain": [
       "[{'first_name': 'Павел',\n",
       "  'id': 1,\n",
       "  'last_name': 'Дуров',\n",
       "  'last_seen': {'platform': 1, 'time': 1527769493},\n",
       "  'online': 0}]"
      ]
     },
     "execution_count": 10,
     "metadata": {},
     "output_type": "execute_result"
    }
   ],
   "source": [
    "vkapi.users.get(user_id=1, fields='online, last_seen')"
   ]
  },
  {
   "cell_type": "raw",
   "metadata": {},
   "source": [
    "vk_api.метод.название(параметры=значения)\n",
    "Например: vk_api.messages.send(users_id=0, messages=’hello’)"
   ]
  },
  {
   "cell_type": "markdown",
   "metadata": {},
   "source": [
    "#### По идее, должна сообщения отправлять, но что-то пошло не так"
   ]
  },
  {
   "cell_type": "code",
   "execution_count": 61,
   "metadata": {},
   "outputs": [],
   "source": [
    "#vkapi.messages.send(users_id='0', messages='hi', peer_id='0')\n",
    "#тут какая-то ошибочка\n",
    "\n",
    "# request_params = {'messages': 'hi', 'oauth': '1', 'v': '5.73', 'users_id': '0', 'method': 'messages.send'}\n",
    "# you should specify peer_id, user_id, domain, chat_id or user_ids param"
   ]
  },
  {
   "cell_type": "markdown",
   "metadata": {},
   "source": [
    "### Возвращаемся к выгрузке сообщений"
   ]
  },
  {
   "cell_type": "code",
   "execution_count": null,
   "metadata": {},
   "outputs": [],
   "source": [
    "friends = vkapi('friends.get') # получение всего списка друзей для пользователя\n",
    "# friends = [1111111, 2222222, 33333333] # задаем друзей вручную \n",
    "print(friends)"
   ]
  },
  {
   "cell_type": "code",
   "execution_count": null,
   "metadata": {},
   "outputs": [],
   "source": [
    "print(vkapi('users.get', user_id=25842353)[0]['last_name'])\n",
    "print(vkapi('users.get', user_id=16123313)[0]['last_name'])\n",
    "print(vkapi('users.get', user_id=21925237)[0]['last_name'])"
   ]
  },
  {
   "cell_type": "code",
   "execution_count": 14,
   "metadata": {},
   "outputs": [],
   "source": [
    "#возвращает шапки диалогов\n",
    "def get_dialogs(user_id):\n",
    "    dialogs = vkapi('messages.getDialogs', user_id=user_id)\n",
    "    return dialogs"
   ]
  },
  {
   "cell_type": "code",
   "execution_count": null,
   "metadata": {},
   "outputs": [],
   "source": [
    "get_dialogs(0) #все шапки\n",
    "get_dialogs(16123313) #шапка конкретного\n",
    "\n",
    "#а КАК шапка диалога со МНОЙ? 0 или свой ид, ало\n",
    "#а КАК не шапка а САМ диалог? history потому что, метод другой, лал"
   ]
  },
  {
   "cell_type": "code",
   "execution_count": null,
   "metadata": {},
   "outputs": [],
   "source": [
    "vkapi('messages.getHistory', user_id=16123313, count=10, offset=0)"
   ]
  },
  {
   "cell_type": "markdown",
   "metadata": {},
   "source": [
    "###### поправочка 1"
   ]
  },
  {
   "cell_type": "code",
   "execution_count": 17,
   "metadata": {},
   "outputs": [
    {
     "data": {
      "text/plain": [
       "12948"
      ]
     },
     "execution_count": 17,
     "metadata": {},
     "output_type": "execute_result"
    }
   ],
   "source": [
    "SLEEP_TIME = 0.3\n",
    "\n",
    "friend_dialog=get_dialogs(16123313)\n",
    "time.sleep(SLEEP_TIME)\n",
    "#dialog_len = friend_dialog[0]  так уже не надо\n",
    "\n",
    "friend_dialog['count'] # вот так надо\n",
    "#friend_dialog"
   ]
  },
  {
   "cell_type": "markdown",
   "metadata": {},
   "source": [
    "###### функции"
   ]
  },
  {
   "cell_type": "code",
   "execution_count": 203,
   "metadata": {},
   "outputs": [],
   "source": [
    "SELF_ID = 1\n",
    "SLEEP_TIME = 0.3\n",
    "\n",
    "friends = vkapi('friends.get') # получение всего списка друзей для текущего пользователя\n",
    "\n",
    "def get_dialogs(user_id):\n",
    "    dialogs = vkapi('messages.getDialogs', user_id=user_id)\n",
    "    return dialogs\n",
    "\n",
    "def get_history(friends, sleep_time=0.3):\n",
    "    all_history = []\n",
    "    i = 0\n",
    "    for friend in friends:\n",
    "        friend_dialog = get_dialogs(friend)\n",
    "        time.sleep(sleep_time)\n",
    "        dialog_len = friend_dialog['count']           #здесь внесла поправку\n",
    "        friend_history = []\n",
    "        if dialog_len > 200:\n",
    "            resid = dialog_len\n",
    "            offset = 0\n",
    "            while resid > 0:\n",
    "                friend_history += vkapi('messages.getHistory', \n",
    "                    user_id=friend, \n",
    "                    count=200, \n",
    "                    offset=offset)['items']\n",
    "                time.sleep(sleep_time)\n",
    "                resid -= 200\n",
    "                offset += 200\n",
    "#                if resid > 0:\n",
    "#                    print('--processing', friend, ':', resid, \n",
    "#                    'of', dialog_len, 'messages left')\n",
    "            all_history += friend_history\n",
    "        i +=1\n",
    "#        print('processed', i, 'friends of', len(friends))\n",
    "    return all_history\n",
    "\n",
    "def get_messages_for_user(data, user_id):\n",
    "    self_messages = []\n",
    "    for dialog in data:\n",
    "#        if type(dialog) == dict:\n",
    "            if dialog['from_id'] == user_id: # удалила вот это dialog['uid'] == user_id and \n",
    "                m_text = re.sub(\"<br>\", \" \", dialog['body'])\n",
    "                self_messages.append(m_text)\n",
    "    print('Extracted', len(self_messages), 'messages in total')\n",
    "    return self_messages\n",
    "\n",
    "def save_to_file(data, file_name='output.txt'):\n",
    "    with open(file_name, 'w', encoding='utf-8') as f:\n",
    "        print(data, file=f)"
   ]
  },
  {
   "cell_type": "raw",
   "metadata": {},
   "source": []
  },
  {
   "cell_type": "code",
   "execution_count": 200,
   "metadata": {},
   "outputs": [
    {
     "data": {
      "text/plain": [
       "237089588"
      ]
     },
     "execution_count": 200,
     "metadata": {},
     "output_type": "execute_result"
    }
   ],
   "source": [
    "all_history[0]['from_id']"
   ]
  },
  {
   "cell_type": "code",
   "execution_count": 202,
   "metadata": {},
   "outputs": [
    {
     "name": "stdout",
     "output_type": "stream",
     "text": [
      "Extracted 0 messages in total\n"
     ]
    }
   ],
   "source": [
    "if __name__ == '__main__':\n",
    "    all_history = get_history(friends['items'], SLEEP_TIME) # здесь, опять же, уже friends['item'], а не просто friends\n",
    "    save_to_file(all_history, 'raw.txt')\n",
    "\n",
    "#    self_messages = get_messages_for_user(all_history, SELF_ID)\n",
    "#    save_to_file(self_messages, 'sm_corpus.txt')\n",
    "#ВСЕ РАВНО ЭТА ХУЙНЯ НЕ ХОЧЕТ РАБОТАТЬ, НО ОНА И НАХ НЕ СДАЛАСЬ В ОБЩЕМ"
   ]
  },
  {
   "cell_type": "markdown",
   "metadata": {},
   "source": [
    "###### it's time to разбираться"
   ]
  },
  {
   "cell_type": "code",
   "execution_count": null,
   "metadata": {},
   "outputs": [],
   "source": [
    "#get_history('237089588', sleep_time=0.3)\n",
    "\n",
    "sleep_time=0.3\n",
    "my_dialog = get_dialogs('237089588')\n",
    "print('head of a dialog       ', my_dialog, '\\r\\n')\n",
    "time.sleep(sleep_time)\n",
    "dialog_len = my_dialog['count']\n",
    "print('len of a dialog        ', dialog_len, '\\r\\n')\n",
    "my_history = vkapi('messages.getHistory', \n",
    "                    user_id='237089588', \n",
    "                    count=200, \n",
    "                    offset=0)\n",
    "my_history"
   ]
  },
  {
   "cell_type": "markdown",
   "metadata": {},
   "source": [
    "###### ok, last 200 messages of my history we've got.\n",
    "now let's get'em all"
   ]
  },
  {
   "cell_type": "code",
   "execution_count": 25,
   "metadata": {},
   "outputs": [],
   "source": [
    "my_dialog = get_dialogs('sore_wa_himitsu_desu')\n",
    "time.sleep(sleep_time)\n",
    "dialog_len = my_dialog['count']           #здесь внесла поправку\n",
    "my_history = []\n",
    "#print(friend_history)\n",
    "if dialog_len > 200:\n",
    "    resid = dialog_len\n",
    "    offset = 0\n",
    "    while resid > 0:\n",
    "        #print(my_history)\n",
    "        my_history += vkapi('messages.getHistory', \n",
    "            user_id=237089588, \n",
    "            count=200, \n",
    "            offset=offset)['items'] #а вот и гвоздь. кот бы сомневался.\n",
    "        #print(my_history)\n",
    "        time.sleep(sleep_time)\n",
    "        resid -= 200\n",
    "        offset += 200"
   ]
  },
  {
   "cell_type": "code",
   "execution_count": 21,
   "metadata": {},
   "outputs": [],
   "source": [
    "def save_to_file(data, file_name='output.txt'):\n",
    "    with open(file_name, 'w', encoding='utf-8') as f:\n",
    "        print(data, file=f)"
   ]
  },
  {
   "cell_type": "code",
   "execution_count": 26,
   "metadata": {},
   "outputs": [],
   "source": [
    "#my_history\n",
    "save_to_file(my_history, 'self_dialog.txt')"
   ]
  },
  {
   "cell_type": "code",
   "execution_count": null,
   "metadata": {},
   "outputs": [],
   "source": []
  }
 ],
 "metadata": {
  "kernelspec": {
   "display_name": "Python 3",
   "language": "python",
   "name": "python3"
  },
  "language_info": {
   "codemirror_mode": {
    "name": "ipython",
    "version": 3
   },
   "file_extension": ".py",
   "mimetype": "text/x-python",
   "name": "python",
   "nbconvert_exporter": "python",
   "pygments_lexer": "ipython3",
   "version": "3.6.7"
  }
 },
 "nbformat": 4,
 "nbformat_minor": 2
}
