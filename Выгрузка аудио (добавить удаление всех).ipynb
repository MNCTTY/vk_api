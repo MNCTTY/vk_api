{
 "cells": [
  {
   "cell_type": "code",
   "execution_count": 1,
   "metadata": {},
   "outputs": [],
   "source": [
    "import os\n",
    "import requests\n",
    "from selenium import webdriver\n",
    "import json"
   ]
  },
  {
   "cell_type": "markdown",
   "metadata": {},
   "source": [
    "офигенный автоматический способ получить токен"
   ]
  },
  {
   "cell_type": "code",
   "execution_count": null,
   "metadata": {},
   "outputs": [],
   "source": [
    "# Создаем объект драйвера\n",
    "\n",
    "driver = webdriver.Firefox()\n",
    "\n",
    "# Переходим по ссылке.\n",
    "# client_id - идентификатор созданного нами приложения\n",
    "# scope - права доступа\n",
    "driver.get(\"http://api.vkontakte.ru/oauth/authorize?\"\n",
    "           \"client_id=4591034&scope=audio\"\n",
    "           \"&redirect_uri=http://api.vk.com/blank.html\"\n",
    "           \"&display=page&response_type=token\")\n",
    "\n",
    "user = \"email/phone\"\n",
    "password = \"password\"\n",
    "\n",
    "# Находим элементы формы и вводим данные для авторизации\n",
    "user_input = driver.find_element_by_name(\"email\")\n",
    "user_input.send_keys(user)\n",
    "password_input = driver.find_element_by_name(\"pass\")\n",
    "password_input.send_keys(password)\n",
    "\n",
    "# Нажимаем на кнопку\n",
    "submit = driver.find_element_by_id(\"install_allow\")\n",
    "submit.click()\n",
    "\n",
    "# Получаем необходимые данные для выполнения запросов к api\n",
    "current = driver.current_url\n",
    "access_list = (current.split(\"#\"))[1].split(\"&\")\n",
    "access_token = (access_list[0].split(\"=\"))[1] # acces_token\n",
    "expires_in = (access_list[1].split(\"=\"))[1] # срок времени действия токена\n",
    "user_id = (access_list[2].split(\"=\"))[1] # id нашей учетной записи в ВК\n",
    "# Закрываем окно браузера\n",
    "\n",
    "driver.close()"
   ]
  },
  {
   "cell_type": "code",
   "execution_count": null,
   "metadata": {},
   "outputs": [],
   "source": [
    "# Принт для дебага\n",
    "print \"Connecting\"\n",
    "# Адрес запроса\n",
    "url = \"https://api.vkontakte.ru/method/\" \\\n",
    "      \"audio.get?uid=\" + user_id +\\\n",
    "      \"&access_token=\" + access_token\n",
    "# Создаем листы для хранения данных\n",
    "artists_list = []\n",
    "titles_list = []\n",
    "links_list = []\n",
    "# счетчик для дебага и перехода по элементам листов\n",
    "number = 0\n",
    "# Читаем ответ сервера и сохраняем в переменную\n",
    "page = requests.get(url)\n",
    "html = page.text"
   ]
  },
  {
   "cell_type": "code",
   "execution_count": null,
   "metadata": {},
   "outputs": [],
   "source": [
    "my_dict = json.loads(html) # используем loads()"
   ]
  },
  {
   "cell_type": "code",
   "execution_count": null,
   "metadata": {},
   "outputs": [],
   "source": [
    "for i in my_dict['response']:\n",
    "    artists_list.append(i['artist'])\n",
    "    titles_list.append(i['title'])\n",
    "    links_list.append(i['url'])\n",
    "    number += 1"
   ]
  },
  {
   "cell_type": "code",
   "execution_count": null,
   "metadata": {},
   "outputs": [],
   "source": [
    "# Создаем директорию, если она не была создана ранее\n",
    "\n",
    "path = \"downloads\"\n",
    "\n",
    "if not os.path.exists(path):\n",
    "    os.makedirs(path)\n",
    "# Принт для дебага\n",
    "print \"Need to download: \", number\n",
    "\n",
    "# Процесс скачивания файлов\n",
    "\n",
    "for i in range(0, number):\n",
    "\n",
    "# Путь по которому будет храниться/скачиваться конкретная аудиозапись\n",
    "    new_filename = path+\"/\"+artists_list[i] + \" - \" + titles_list[i] + \".mp3\"\n",
    "    print \"Downloading: \", new_filename, i\n",
    "# Проверка на существующий файл\n",
    "    if not os.path.exists(new_filename):\n",
    "# Сама загрузка файла, отсекаем из ссылки все аргументы и указываем путь куда скачивать\n",
    "        with open(new_filename, \"wb\") as out:\n",
    "            response = requests.get(links_list[i].split(\"?\")[0])\n",
    "            out.write(response.content)\n",
    "\n",
    "print \"Download complete.\""
   ]
  },
  {
   "cell_type": "code",
   "execution_count": null,
   "metadata": {},
   "outputs": [],
   "source": []
  }
 ],
 "metadata": {
  "kernelspec": {
   "display_name": "Python 3",
   "language": "python",
   "name": "python3"
  },
  "language_info": {
   "codemirror_mode": {
    "name": "ipython",
    "version": 3
   },
   "file_extension": ".py",
   "mimetype": "text/x-python",
   "name": "python",
   "nbconvert_exporter": "python",
   "pygments_lexer": "ipython3",
   "version": "3.6.7"
  }
 },
 "nbformat": 4,
 "nbformat_minor": 2
}
