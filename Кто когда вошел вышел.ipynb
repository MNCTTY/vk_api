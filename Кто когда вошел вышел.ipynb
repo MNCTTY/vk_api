{
 "cells": [
  {
   "cell_type": "code",
   "execution_count": null,
   "metadata": {},
   "outputs": [],
   "source": [
    "import datetime\n",
    "from time import sleep\n",
    "import vk\n",
    "\n",
    "def get_status(current_status, vk_api, id):\n",
    "    profiles = vk_api.users.get(user_id=id, fields='online, last_seen')\n",
    "    if (not current_status) and (profiles[0]['online']):  # если появился в сети, то выводим время\n",
    "        now = datetime.datetime.now()\n",
    "        print('~~~~~~~~~~~~~~~~~~~~~~~~~~~~~~~~~~~')\n",
    "        print('Появился в сети в: ', now.strftime(\"%d-%m-%Y %H:%M\"))\n",
    "        return True\n",
    "    if (current_status) and (not profiles[0]['online']):  # если был онлайн, но уже вышел, то выводим время выхода\n",
    "        print('Вышел из сети: ', datetime.datetime.fromtimestamp(profiles[0]['last_seen']['time']).strftime('%d-%m-%Y %H:%M'))\n",
    "        print('~~~~~~~~~~~~~~~~~~~~~~~~~~~~~~~~~~~')\n",
    "        return False\n",
    "    return current_status\n",
    "\n",
    "if __name__ == '__main__':\n",
    "    id = input(\"ID пользователя: \")\n",
    "    session = vk.Session()\n",
    "    vk_api = vk.API(session)\n",
    "    current_status = False\n",
    "    while(True):\n",
    "        current_status = get_status(current_status, vk_api, id)\n",
    "        sleep(60)"
   ]
  }
 ],
 "metadata": {
  "kernelspec": {
   "display_name": "Python 3",
   "language": "python",
   "name": "python3"
  },
  "language_info": {
   "codemirror_mode": {
    "name": "ipython",
    "version": 3
   },
   "file_extension": ".py",
   "mimetype": "text/x-python",
   "name": "python",
   "nbconvert_exporter": "python",
   "pygments_lexer": "ipython3",
   "version": "3.6.7"
  }
 },
 "nbformat": 4,
 "nbformat_minor": 2
}
