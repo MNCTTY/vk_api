{
 "cells": [
  {
   "cell_type": "code",
   "execution_count": null,
   "metadata": {},
   "outputs": [],
   "source": [
    "def getUserId(link):  #получаем ленту пользователя\n",
    "    id = link\n",
    "    if 'vk.com/' in link: #  проверяем эту ссылку\n",
    "        id = link.split('/')[-1]  # если да, то получаем его последнюю часть\n",
    "    if not id.replace('id', '').isdigit(): # если в нем после отсечения 'id' сами цифры - это и есть id \n",
    "        id = vkapi.utils.resolveScreenName(screen_name=id)['object_id'] # если нет, получаем id с помощью метода API\n",
    "    else:\n",
    "        id = id.replace('id', '')\n",
    "    return int(id)"
   ]
  },
  {
   "cell_type": "code",
   "execution_count": null,
   "metadata": {},
   "outputs": [],
   "source": [
    "# count это количество запросов (и количество постов = 100 * count постов)\n",
    "def getLikes(user_id, cnt, vkapi):\n",
    "    import time\n",
    "    # подписки пользователя\n",
    "    subscriptions_list = vkapi.users.getSubscriptions(user_id=user_id,extended=0)['groups']['items']\n",
    "    # формируем список id, который нужно передать в следующий метод\n",
    "    groups_list = ['-' + str(x) for x in subscriptions_list]\n",
    "    posts = {}\n",
    "    # формируем ленту новостей\n",
    "    newsfeed = vkapi.newsfeed.get(\n",
    "        filters='post',\n",
    "        source_ids=', '.join(groups_list),\n",
    "        count=100, timeout=10)\n",
    "    # добавляем посты в словарь в формате id_поста: id_группы\n",
    "    posts.update({x['post_id']: x['source_id'] for x in newsfeed['items']})\n",
    "    # нужно для получения следующей партии\n",
    "    # если требуется более одного запроса — делаем остаток в цикле\n",
    "    if cnt != 1:\n",
    "        for c in range(cnt - 1):\n",
    "            next_from = newsfeed['new_from']\n",
    "            kwargs = {\n",
    "                'from': next_from,\n",
    "                'filters': 'post',\n",
    "                'source_ids': ', '.join(groups_list),\n",
    "                'count': 100,\n",
    "                'timeout': 10\n",
    "            }\n",
    "            newsfeed = vkapi.newsfeed.get(**kwargs)\n",
    " \n",
    "            posts.update({x['post_id']: x['source_id'] for x in newsfeed['items']})\n",
    "            time.sleep(1)\n",
    "    liked_posts = []\n",
    " \n",
    "    print('Лайкнутые посты:')\n",
    "    for post in posts.items():\n",
    "        try:\n",
    "            itemID = post[0]\n",
    "            ownerID = post[1]\n",
    "            timeOut = 5\n",
    "            isLiked = vkapi.likes.isLiked(\n",
    "                user_id=user_id,\n",
    "                item_id=itemID,\n",
    "                type='post',\n",
    "                owner_id=ownerID,\n",
    "                timeout=timeOut)\n",
    "        except Exception:\n",
    "#             print('ERROR! ' + 'vk.com/wall{0}_{1}'.format(post[1], post[0]))\n",
    "            isLiked = 0\n",
    " \n",
    "        if isLiked:\n",
    "            liked_posts.append('vk.com/wall{0}_{1}'.format(post[1], post[0]))\n",
    "            print('vk.com/wall{}_{}'.format(post[1], post[0]))\n",
    "            time.sleep(1)\n",
    "    return liked_posts"
   ]
  },
  {
   "cell_type": "code",
   "execution_count": null,
   "metadata": {},
   "outputs": [],
   "source": [
    "user_id = input('Введите id пользователя или ссылку на страницу: ')\n",
    "user_id = getUserId(user_id)\n",
    "getLikes(user_id, 5, vkapi) # Сканируем 5 * 100 = 500 постов"
   ]
  },
  {
   "cell_type": "raw",
   "metadata": {},
   "source": [
    "Запуск \n",
    "➜ python3 main.py\n",
    "Введите id пользователя или ссылку на страницу: http://vk.com/id***"
   ]
  },
  {
   "cell_type": "code",
   "execution_count": null,
   "metadata": {},
   "outputs": [],
   "source": []
  }
 ],
 "metadata": {
  "kernelspec": {
   "display_name": "Python 3",
   "language": "python",
   "name": "python3"
  },
  "language_info": {
   "codemirror_mode": {
    "name": "ipython",
    "version": 3
   },
   "file_extension": ".py",
   "mimetype": "text/x-python",
   "name": "python",
   "nbconvert_exporter": "python",
   "pygments_lexer": "ipython3",
   "version": "3.6.7"
  }
 },
 "nbformat": 4,
 "nbformat_minor": 2
}
