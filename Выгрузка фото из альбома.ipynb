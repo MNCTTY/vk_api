{
 "cells": [
  {
   "cell_type": "code",
   "execution_count": null,
   "metadata": {},
   "outputs": [],
   "source": [
    "# Импортируем нужные модули\n",
    "from urllib.request import urlretrieve\n",
    "import vk, os, time, math\n",
    " \n",
    "# Авторизация\n",
    " \n",
    "login = ''\n",
    "password = ''\n",
    "vk_id = 'ID_ВАШЕГО_ПРИЛОЖЕНИЯ'\n",
    " \n",
    "session = vk.AuthSession(app_id=vk_id, user_login=login, user_password=password) \n",
    " \n",
    "vkapi = vk.API(session)"
   ]
  },
  {
   "cell_type": "code",
   "execution_count": null,
   "metadata": {},
   "outputs": [],
   "source": [
    "url = input(\"Введите url альбома: \")\n",
    "# Разбираем ссылку\n",
    "album_id = url.split('/')[-1].split('_')[1]\n",
    "owner_id = url.split('/')[-1].split('_')[0].replace('album', '')"
   ]
  },
  {
   "cell_type": "code",
   "execution_count": null,
   "metadata": {},
   "outputs": [],
   "source": [
    "photos_count = vkapi.photos.getAlbums(owner_id=owner_id, album_ids=album_id)['items'][0]['size']\n",
    " \n",
    "counter = 0 # текущий счетчик\n",
    "prog = 0 # процент загруженных\n",
    "breaked = 0 # не загружено из-за ошибки\n",
    "time_now = time.time() # время старта"
   ]
  },
  {
   "cell_type": "code",
   "execution_count": null,
   "metadata": {},
   "outputs": [],
   "source": [
    "# Создадим каталоги\n",
    "if not os.path.exists('saved'):\n",
    "    os.mkdir('saved')\n",
    "photo_folder = 'saved/album{0}_{1}'.format(owner_id, album_id)\n",
    "if not os.path.exists(photo_folder):\n",
    "    os.mkdir(photo_folder)\n",
    " \n",
    "for j in range(math.ceil(photos_count / 1000)): # Подсчитаем сколько раз нужно получать список фото, так как число получится не целое - округляем в большую сторону\n",
    "    photos = vkapi.photos.get(owner_id=owner_id, album_id=album_id, count=1000, offset=j*1000) # Получаем список фото\n",
    "    for photo in photos['items']:\n",
    "        counter += 1\n",
    "        url = photo['photo_604'] # Получаем адрес изображения\n",
    "        print('Загружаю фото № {} из {}. Прогресс: {} %'.format(counter, photos_count, prog))\n",
    "        prog = round(100/photos_count*counter,2)\n",
    "        try:\n",
    "            urlretrieve(url, photo_folder + \"/\" + os.path.split(url)[1]) # Загружаем и сохраняем файл\n",
    "        except Exception:\n",
    "            print('Произошла ошибка, файл пропущен.')\n",
    "            breaked += 1\n",
    "            continue"
   ]
  },
  {
   "cell_type": "code",
   "execution_count": null,
   "metadata": {},
   "outputs": [],
   "source": [
    "time_for_dw = time.time() - time_now\n",
    "print(\"\\nВ очереди было {} файлов. Из них удачно загружено {} файлов, {} не удалось загрузить. Затрачено времени: {} сек.\". format(photos_count, photos_count-breaked, breaked, round(time_for_dw,1)))"
   ]
  }
 ],
 "metadata": {
  "kernelspec": {
   "display_name": "Python 3",
   "language": "python",
   "name": "python3"
  },
  "language_info": {
   "codemirror_mode": {
    "name": "ipython",
    "version": 3
   },
   "file_extension": ".py",
   "mimetype": "text/x-python",
   "name": "python",
   "nbconvert_exporter": "python",
   "pygments_lexer": "ipython3",
   "version": "3.6.7"
  }
 },
 "nbformat": 4,
 "nbformat_minor": 2
}
